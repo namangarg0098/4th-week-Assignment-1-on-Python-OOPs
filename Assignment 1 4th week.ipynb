{
 "cells": [
  {
   "cell_type": "markdown",
   "id": "190b3e26-6be7-4e99-81e2-460ab60ccc8e",
   "metadata": {},
   "source": [
    "Q1 -: Explain class and object with respect to Object-Oriented Programming. Give a Suitable Example"
   ]
  },
  {
   "cell_type": "code",
   "execution_count": 2,
   "id": "7ba46b3c-f273-43d0-8bef-b3ca79df75d0",
   "metadata": {},
   "outputs": [],
   "source": [
    "# Classes are user defined data types that act as the blueprint for individual objects, attributes and methods."
   ]
  },
  {
   "cell_type": "code",
   "execution_count": 3,
   "id": "0c1bae72-ce2a-4a35-b85d-cbb257edf931",
   "metadata": {},
   "outputs": [],
   "source": [
    "# Objects are instances of a class created with specifically defined data."
   ]
  },
  {
   "cell_type": "code",
   "execution_count": 4,
   "id": "6a91e5d0-e79b-42c2-b0f1-f41d01c031a1",
   "metadata": {},
   "outputs": [],
   "source": [
    "# It helps us to bind data and methods together, making the code reusable, unlike procedural language.\n",
    "# For example, a mobile phone has attributes like a brand name, RAM, and functions like texting and calling. Thus, the mobile phone is\n",
    "# a class of various phones (the objects)."
   ]
  },
  {
   "cell_type": "code",
   "execution_count": 5,
   "id": "fc0ce5f7-144d-4729-83de-42ed5d4365dd",
   "metadata": {},
   "outputs": [],
   "source": [
    "# An object is called an instance of a class. For example, suppose Bicycle is a class then MountainBicycle , SportsBicycle , TouringBicycle , etc \n",
    "# can be considered as objects of the class."
   ]
  },
  {
   "cell_type": "code",
   "execution_count": 6,
   "id": "32e6dedb-413e-48dc-a36e-433dae20cea4",
   "metadata": {},
   "outputs": [
    {
     "name": "stdout",
     "output_type": "stream",
     "text": [
      "Name: Mountain Bike, Gears: 11 \n"
     ]
    }
   ],
   "source": [
    "# define a class\n",
    "class Bike:\n",
    "    name = \"\"\n",
    "    gear = 0\n",
    "\n",
    "# create object of class\n",
    "bike1 = Bike()\n",
    "\n",
    "# access attributes and assign new values\n",
    "bike1.gear = 11\n",
    "bike1.name = \"Mountain Bike\"\n",
    "\n",
    "print(f\"Name: {bike1.name}, Gears: {bike1.gear} \")"
   ]
  },
  {
   "cell_type": "code",
   "execution_count": null,
   "id": "caf26dc8-e5b5-4578-a35d-34bd529be7e2",
   "metadata": {},
   "outputs": [],
   "source": []
  },
  {
   "cell_type": "markdown",
   "id": "b71f3985-7dcd-40e6-a0e3-1cd33d3379f5",
   "metadata": {},
   "source": [
    "Q2 -: Name the four pillars of OOPS."
   ]
  },
  {
   "cell_type": "code",
   "execution_count": 7,
   "id": "69e3e254-f5f7-4b48-ae25-e68cb2bc79c5",
   "metadata": {},
   "outputs": [],
   "source": [
    "# 1 -: Inheritance "
   ]
  },
  {
   "cell_type": "code",
   "execution_count": 8,
   "id": "860fe232-1f35-4373-9236-0ffec74cba6e",
   "metadata": {},
   "outputs": [],
   "source": [
    "# 2 -: Polymorphism"
   ]
  },
  {
   "cell_type": "code",
   "execution_count": 9,
   "id": "6606203f-3d0e-48c9-8e05-8dc3f1105577",
   "metadata": {},
   "outputs": [],
   "source": [
    "# 3 -: Encapsulation"
   ]
  },
  {
   "cell_type": "code",
   "execution_count": 10,
   "id": "8d55026a-d54c-49e9-a33b-f0967de26a52",
   "metadata": {},
   "outputs": [],
   "source": [
    "# 4 -: Abstraction"
   ]
  },
  {
   "cell_type": "code",
   "execution_count": null,
   "id": "cf57f949-d406-4ae5-b1f3-eecac3918371",
   "metadata": {},
   "outputs": [],
   "source": []
  },
  {
   "cell_type": "markdown",
   "id": "1d66e693-4c2f-44cb-aa2c-797c84a692e0",
   "metadata": {},
   "source": [
    "Q3 -: Explain why the __init__() function is used. Give a suitable example."
   ]
  },
  {
   "cell_type": "code",
   "execution_count": null,
   "id": "1946cf13-7ea1-4fb3-a320-df6fdc593092",
   "metadata": {},
   "outputs": [],
   "source": []
  },
  {
   "cell_type": "code",
   "execution_count": 12,
   "id": "6079694e-96f5-4289-8831-cb3744174574",
   "metadata": {},
   "outputs": [],
   "source": [
    "# \"__init__\" is a reseved method in python classes. It is known as a constructor in object oriented concepts. This method called when an object is\n",
    "# created from the class and it allow the class to initialize the attributes of a class."
   ]
  },
  {
   "cell_type": "code",
   "execution_count": 13,
   "id": "1fe2415b-b36f-4637-9a02-de368fa0e707",
   "metadata": {},
   "outputs": [],
   "source": [
    "# E.g., if the class is Person, then the attributes will be name, age, etc."
   ]
  },
  {
   "cell_type": "code",
   "execution_count": 14,
   "id": "48b9dee8-7d1d-4756-9852-e42aeacfcaba",
   "metadata": {},
   "outputs": [],
   "source": [
    "class Person:\n",
    "    \n",
    "    def __init__(self, name, age):\n",
    "        self.name = name\n",
    "        self.age = age"
   ]
  },
  {
   "cell_type": "code",
   "execution_count": 15,
   "id": "1333160c-2d95-4a13-9ae2-f47612186d1d",
   "metadata": {},
   "outputs": [],
   "source": [
    "p1 = Person(\"John\", 36)"
   ]
  },
  {
   "cell_type": "code",
   "execution_count": 16,
   "id": "a703c61b-3c40-4de2-8192-4434ce6e52cd",
   "metadata": {},
   "outputs": [
    {
     "name": "stdout",
     "output_type": "stream",
     "text": [
      "John\n"
     ]
    }
   ],
   "source": [
    "print(p1.name) "
   ]
  },
  {
   "cell_type": "code",
   "execution_count": 17,
   "id": "adab52d1-a084-480c-84ed-bc4060a3be18",
   "metadata": {},
   "outputs": [
    {
     "name": "stdout",
     "output_type": "stream",
     "text": [
      "36\n"
     ]
    }
   ],
   "source": [
    "print(p1.age)"
   ]
  },
  {
   "cell_type": "code",
   "execution_count": null,
   "id": "54576f46-1300-4980-a57d-2aae1c725e42",
   "metadata": {},
   "outputs": [],
   "source": []
  },
  {
   "cell_type": "markdown",
   "id": "5e86272d-ab03-459e-b427-b74ba4678948",
   "metadata": {},
   "source": [
    "Q4 -: Why self is used in OOPs?"
   ]
  },
  {
   "cell_type": "code",
   "execution_count": 18,
   "id": "9bca197b-c45f-4aff-bad0-44b81baa98a2",
   "metadata": {},
   "outputs": [],
   "source": [
    "# self represents the instance of the class. By using the “self” we can access the attributes and methods of the class in python.\n",
    "# It binds the attributes with the given arguments. The reason you need to use self. is because Python does not use the @ syntax \n",
    "# to refer to instance attributes"
   ]
  },
  {
   "cell_type": "code",
   "execution_count": null,
   "id": "9e903658-c935-46b7-beca-eb2f1a9d5a6d",
   "metadata": {},
   "outputs": [],
   "source": []
  },
  {
   "cell_type": "markdown",
   "id": "14b9ae96-5887-4c76-8534-77ac52346ace",
   "metadata": {},
   "source": [
    "Q5 -: What is inheritance? Give an example of each type of inheritance."
   ]
  },
  {
   "cell_type": "code",
   "execution_count": 19,
   "id": "8d02800c-625c-45f4-90fc-83875c54e558",
   "metadata": {},
   "outputs": [],
   "source": [
    "# Inheritance allows us to define a class that inherits all the methods and properties from another class. Parent class is the class\n",
    "# being inherited from, also called base class. Child class is the class that inherits from another class, also called derived class."
   ]
  },
  {
   "cell_type": "code",
   "execution_count": 20,
   "id": "ce943e23-9773-4a4e-8205-3d690d36d5ad",
   "metadata": {},
   "outputs": [],
   "source": [
    "# 1). Single inheritance.\n",
    "# 2). Multiple inheritances.\n",
    "# 3). Multilevel inheritance.\n",
    "# 4). Hierarchical inheritance.\n",
    "# 5). Hybrid inheritance."
   ]
  },
  {
   "cell_type": "code",
   "execution_count": 21,
   "id": "5d4f2e27-6933-4e70-a808-7d896cb6c4e5",
   "metadata": {},
   "outputs": [],
   "source": [
    "# Single inheritance enables a derived class to inherit properties from a single parent class, thus enabling code reusability\n",
    "# and the addition of new features to existing code"
   ]
  },
  {
   "cell_type": "code",
   "execution_count": 22,
   "id": "5a7f5995-3bb6-413e-8248-f60114113801",
   "metadata": {},
   "outputs": [],
   "source": [
    "# single inheritance\n",
    "\n",
    "class Parent:\n",
    "\tdef func1(self):\n",
    "\t\tprint(\"This function is in parent class.\")\n",
    "\n",
    "class Child(Parent):\n",
    "\tdef func2(self):\n",
    "\t\tprint(\"This function is in child class.\")\n"
   ]
  },
  {
   "cell_type": "code",
   "execution_count": 23,
   "id": "c7ce5f9a-a6aa-4950-8759-5240f920d4f6",
   "metadata": {},
   "outputs": [],
   "source": [
    "object = Child()"
   ]
  },
  {
   "cell_type": "code",
   "execution_count": 24,
   "id": "7ac67d74-2dd1-47bf-b14a-5500fa217de5",
   "metadata": {},
   "outputs": [
    {
     "name": "stdout",
     "output_type": "stream",
     "text": [
      "This function is in parent class.\n"
     ]
    }
   ],
   "source": [
    "object.func1()"
   ]
  },
  {
   "cell_type": "code",
   "execution_count": 25,
   "id": "0fab0a92-9e72-40e0-b330-acea1ee1e8b7",
   "metadata": {},
   "outputs": [
    {
     "name": "stdout",
     "output_type": "stream",
     "text": [
      "This function is in child class.\n"
     ]
    }
   ],
   "source": [
    "object.func2()"
   ]
  },
  {
   "cell_type": "code",
   "execution_count": null,
   "id": "4e1f76c2-6cc4-4f60-ba02-3a3667014409",
   "metadata": {},
   "outputs": [],
   "source": []
  },
  {
   "cell_type": "code",
   "execution_count": null,
   "id": "9dc1e756-c167-4e51-9aa4-b98e91d039b4",
   "metadata": {},
   "outputs": [],
   "source": [
    "# Multiple Inheritance: \n",
    "\n",
    "# When a class can be derived from more than one base class this type of inheritance is called multiple inheritances.\n",
    "# In multiple inheritances, all the features of the base classes are inherited into the derived class. "
   ]
  },
  {
   "cell_type": "code",
   "execution_count": 27,
   "id": "55d5dd92-21c5-4761-a250-a4582e41b15d",
   "metadata": {},
   "outputs": [],
   "source": [
    "# multiple inheritance\n",
    "\n",
    "class Mother:\n",
    "\tmothername = \"\"\n",
    "\n",
    "\tdef mother(self):\n",
    "\t\tprint(self.mothername)\n",
    "\n",
    "        \n",
    "class Father:\n",
    "\tfathername = \"\"\n",
    "\n",
    "\tdef father(self):\n",
    "\t\tprint(self.fathername)\n",
    "\n",
    "\n",
    "class Son(Mother, Father):\n",
    "\tdef parents(self):\n",
    "\t\tprint(\"Father :\", self.fathername)\n",
    "\t\tprint(\"Mother :\", self.mothername)\n"
   ]
  },
  {
   "cell_type": "code",
   "execution_count": 28,
   "id": "b8ba9afa-d6f4-4367-ad3e-e17151121364",
   "metadata": {},
   "outputs": [],
   "source": [
    "s1 = Son()"
   ]
  },
  {
   "cell_type": "code",
   "execution_count": 29,
   "id": "725c13eb-fcfd-45bf-83c8-7e2916140dc8",
   "metadata": {},
   "outputs": [],
   "source": [
    "s1.fathername = \"RAM\""
   ]
  },
  {
   "cell_type": "code",
   "execution_count": 31,
   "id": "f1f802ea-bad0-4c93-8d57-521971bf9f56",
   "metadata": {},
   "outputs": [],
   "source": [
    "s1.mothername = \"SITA\""
   ]
  },
  {
   "cell_type": "code",
   "execution_count": 32,
   "id": "fcf42e18-d337-4b36-bcc4-aa96e2c8461f",
   "metadata": {},
   "outputs": [
    {
     "name": "stdout",
     "output_type": "stream",
     "text": [
      "Father : RAM\n",
      "Mother : SITA\n"
     ]
    }
   ],
   "source": [
    "s1.parents()"
   ]
  },
  {
   "cell_type": "code",
   "execution_count": null,
   "id": "804b7f2c-7c80-48cc-9c53-abe7f29bf387",
   "metadata": {},
   "outputs": [],
   "source": []
  },
  {
   "cell_type": "code",
   "execution_count": 34,
   "id": "11204d7b-e38c-4843-b259-489bb90b9360",
   "metadata": {},
   "outputs": [],
   "source": [
    "# Multilevel Inheritance :\n",
    "\n",
    "# In multilevel inheritance, features of the base class and the derived class are further inherited into the new derived class.\n",
    "# This is similar to a relationship representing a child and a grandfather. "
   ]
  },
  {
   "cell_type": "code",
   "execution_count": 44,
   "id": "2dfe5e44-a8ab-4e17-8ffb-ef038f18fd98",
   "metadata": {},
   "outputs": [],
   "source": [
    "# Multilevel Inheritance\n",
    "class class1 :\n",
    "    \n",
    "    def test_class1(self) :\n",
    "        return 'this is a method from class1'"
   ]
  },
  {
   "cell_type": "code",
   "execution_count": 36,
   "id": "562b4b05-bd56-4ecb-b4b0-df78a2db3a13",
   "metadata": {},
   "outputs": [],
   "source": [
    "class class2(class1) :\n",
    "    \n",
    "    def test_class2(self) :\n",
    "        return 'this is a method from class2'"
   ]
  },
  {
   "cell_type": "code",
   "execution_count": 37,
   "id": "ea78d9d7-181b-4403-bf21-a78bafb786be",
   "metadata": {},
   "outputs": [],
   "source": [
    "class class3(class2) :\n",
    "    pass"
   ]
  },
  {
   "cell_type": "code",
   "execution_count": 38,
   "id": "9ffb0f9e-8df1-45d0-a2da-cabf84cec34d",
   "metadata": {},
   "outputs": [],
   "source": [
    "om = class3()"
   ]
  },
  {
   "cell_type": "code",
   "execution_count": 39,
   "id": "01caecb3-a8c7-455f-ab10-50d39c6a4731",
   "metadata": {},
   "outputs": [
    {
     "data": {
      "text/plain": [
       "'this is a method from class1'"
      ]
     },
     "execution_count": 39,
     "metadata": {},
     "output_type": "execute_result"
    }
   ],
   "source": [
    "om.test_class1()"
   ]
  },
  {
   "cell_type": "code",
   "execution_count": 40,
   "id": "58d957cd-88ae-478e-be1a-f5d869cfb4db",
   "metadata": {},
   "outputs": [
    {
     "data": {
      "text/plain": [
       "'this is a method from class2'"
      ]
     },
     "execution_count": 40,
     "metadata": {},
     "output_type": "execute_result"
    }
   ],
   "source": [
    "om.test_class2()"
   ]
  },
  {
   "cell_type": "code",
   "execution_count": 41,
   "id": "7b2c5b77-114e-48b2-89ea-847145d646fc",
   "metadata": {},
   "outputs": [],
   "source": [
    "obj_class3 = class3()"
   ]
  },
  {
   "cell_type": "code",
   "execution_count": 42,
   "id": "0c32b938-5acf-47dc-83b1-fafc85931da8",
   "metadata": {},
   "outputs": [
    {
     "data": {
      "text/plain": [
       "'this is a method from class1'"
      ]
     },
     "execution_count": 42,
     "metadata": {},
     "output_type": "execute_result"
    }
   ],
   "source": [
    "obj_class3.test_class1()"
   ]
  },
  {
   "cell_type": "code",
   "execution_count": 43,
   "id": "fccccf37-6a9f-41a7-92f6-f80e7f3430fb",
   "metadata": {},
   "outputs": [
    {
     "data": {
      "text/plain": [
       "'this is a method from class2'"
      ]
     },
     "execution_count": 43,
     "metadata": {},
     "output_type": "execute_result"
    }
   ],
   "source": [
    "obj_class3.test_class2()"
   ]
  },
  {
   "cell_type": "code",
   "execution_count": null,
   "id": "f20b6c13-0e24-4bbd-b72a-f7a151403541",
   "metadata": {},
   "outputs": [],
   "source": []
  },
  {
   "cell_type": "code",
   "execution_count": null,
   "id": "71b82eb6-9f0b-4f18-a975-63ba3f128d73",
   "metadata": {},
   "outputs": [],
   "source": [
    "# Hierarchical Inheritance: \n",
    "\n",
    "# When more than one derived class are created from a single base this type of inheritance is called hierarchical inheritance.\n",
    "# In this program, we have a parent (base) class and two child (derived) classes"
   ]
  },
  {
   "cell_type": "code",
   "execution_count": 45,
   "id": "10f01673-b88a-4c90-8fe5-12793166e471",
   "metadata": {},
   "outputs": [],
   "source": [
    "# Hierarchical inheritance\n",
    "\n",
    "class Parent:\n",
    "\tdef func1(self):\n",
    "\t\tprint(\"This function is in parent class.\")\n",
    "\n",
    "\n",
    "class Child1(Parent):\n",
    "\tdef func2(self):\n",
    "\t\tprint(\"This function is in child 1.\")\n",
    "\n",
    "\n",
    "class Child2(Parent):\n",
    "\tdef func3(self):\n",
    "\t\tprint(\"This function is in child 2.\")\n"
   ]
  },
  {
   "cell_type": "code",
   "execution_count": 46,
   "id": "b8382057-2a33-4e65-a74f-19c6b69afb42",
   "metadata": {},
   "outputs": [],
   "source": [
    "object1 = Child1()"
   ]
  },
  {
   "cell_type": "code",
   "execution_count": 47,
   "id": "86c2be48-fa2d-47e8-bd92-f3f7871a3d8f",
   "metadata": {},
   "outputs": [],
   "source": [
    "object2 = Child2()"
   ]
  },
  {
   "cell_type": "code",
   "execution_count": 48,
   "id": "d026619f-cb4a-4a0a-bf5f-4c566e2a5fde",
   "metadata": {},
   "outputs": [
    {
     "name": "stdout",
     "output_type": "stream",
     "text": [
      "This function is in parent class.\n"
     ]
    }
   ],
   "source": [
    "object1.func1()"
   ]
  },
  {
   "cell_type": "code",
   "execution_count": 49,
   "id": "96b2651a-fcee-4440-b5d4-3cf28bdb3782",
   "metadata": {},
   "outputs": [
    {
     "name": "stdout",
     "output_type": "stream",
     "text": [
      "This function is in child 1.\n"
     ]
    }
   ],
   "source": [
    "object1.func2()"
   ]
  },
  {
   "cell_type": "code",
   "execution_count": 50,
   "id": "aad3deef-f89a-4941-90d3-5f9e4d214ab2",
   "metadata": {},
   "outputs": [
    {
     "name": "stdout",
     "output_type": "stream",
     "text": [
      "This function is in parent class.\n"
     ]
    }
   ],
   "source": [
    "object2.func1()"
   ]
  },
  {
   "cell_type": "code",
   "execution_count": 51,
   "id": "0b70e9db-ee72-406e-a2b8-8fbfeb7fe3e9",
   "metadata": {},
   "outputs": [
    {
     "name": "stdout",
     "output_type": "stream",
     "text": [
      "This function is in child 2.\n"
     ]
    }
   ],
   "source": [
    "object2.func3()"
   ]
  },
  {
   "cell_type": "code",
   "execution_count": null,
   "id": "009ea375-8e3d-4dfb-b646-dce1f9431055",
   "metadata": {},
   "outputs": [],
   "source": []
  },
  {
   "cell_type": "code",
   "execution_count": 52,
   "id": "5cb9e53c-bbbf-48e9-8793-f2649c0dece8",
   "metadata": {},
   "outputs": [],
   "source": [
    "# Hybrid Inheritance: \n",
    "\n",
    "# Inheritance consisting of multiple types of inheritance is called hybrid inheritance."
   ]
  },
  {
   "cell_type": "code",
   "execution_count": 1,
   "id": "11016155-1895-4d77-920c-f75685bb32ed",
   "metadata": {},
   "outputs": [],
   "source": [
    "# hybrid inheritance\n",
    "\n",
    "class School:\n",
    "\tdef func1(self):\n",
    "\t\tprint(\"This function is in school.\")\n",
    "\n",
    "\n",
    "class Student1(School):\n",
    "\tdef func2(self):\n",
    "\t\tprint(\"This function is in student 1. \")\n",
    "\n",
    "\n",
    "class Student2(School):\n",
    "\tdef func3(self):\n",
    "\t\tprint(\"This function is in student 2.\")\n",
    "\n",
    "\n",
    "class Student3(Student1, School):\n",
    "\tdef func4(self):\n",
    "\t\tprint(\"This function is in student 3.\")\n"
   ]
  },
  {
   "cell_type": "code",
   "execution_count": 2,
   "id": "8f9151fd-d92e-4f11-942b-b14bfefe2946",
   "metadata": {},
   "outputs": [],
   "source": [
    "object = Student3()"
   ]
  },
  {
   "cell_type": "code",
   "execution_count": 3,
   "id": "b1490f16-f57e-4f11-892e-72d6757a1496",
   "metadata": {},
   "outputs": [
    {
     "name": "stdout",
     "output_type": "stream",
     "text": [
      "This function is in school.\n"
     ]
    }
   ],
   "source": [
    "object.func1()"
   ]
  },
  {
   "cell_type": "code",
   "execution_count": 4,
   "id": "114a4b9c-b8e5-41c3-9cf4-85a0be2d5891",
   "metadata": {},
   "outputs": [
    {
     "name": "stdout",
     "output_type": "stream",
     "text": [
      "This function is in student 1. \n"
     ]
    }
   ],
   "source": [
    "object.func2()"
   ]
  },
  {
   "cell_type": "code",
   "execution_count": 5,
   "id": "bba7b10a-8c0a-4570-bb18-7fb4c1bac22f",
   "metadata": {},
   "outputs": [
    {
     "name": "stdout",
     "output_type": "stream",
     "text": [
      "This function is in student 3.\n"
     ]
    }
   ],
   "source": [
    "object.func4()"
   ]
  },
  {
   "cell_type": "code",
   "execution_count": 6,
   "id": "5c4e6874-8a49-472b-a4bc-6c75e737681d",
   "metadata": {},
   "outputs": [],
   "source": [
    "object1 = Student2()"
   ]
  },
  {
   "cell_type": "code",
   "execution_count": 8,
   "id": "3dfe77b3-45d8-4eaa-afbe-47bd7bdc272c",
   "metadata": {},
   "outputs": [
    {
     "name": "stdout",
     "output_type": "stream",
     "text": [
      "This function is in student 2.\n"
     ]
    }
   ],
   "source": [
    "object1.func3()"
   ]
  },
  {
   "cell_type": "code",
   "execution_count": null,
   "id": "24114813-c87e-4ae1-9298-0832c4b699e4",
   "metadata": {},
   "outputs": [],
   "source": []
  },
  {
   "cell_type": "code",
   "execution_count": null,
   "id": "247db425-3244-4cd4-8259-552a9a60039d",
   "metadata": {},
   "outputs": [],
   "source": []
  },
  {
   "cell_type": "code",
   "execution_count": null,
   "id": "50680312-e042-4b13-92d6-1977919a965a",
   "metadata": {},
   "outputs": [],
   "source": []
  },
  {
   "cell_type": "code",
   "execution_count": null,
   "id": "e190fd0a-e0c0-43e1-a39e-a4c7abfcc23c",
   "metadata": {},
   "outputs": [],
   "source": []
  },
  {
   "cell_type": "code",
   "execution_count": null,
   "id": "26ca55b4-993e-44be-b7a1-910028ecbecd",
   "metadata": {},
   "outputs": [],
   "source": []
  }
 ],
 "metadata": {
  "kernelspec": {
   "display_name": "Python 3 (ipykernel)",
   "language": "python",
   "name": "python3"
  },
  "language_info": {
   "codemirror_mode": {
    "name": "ipython",
    "version": 3
   },
   "file_extension": ".py",
   "mimetype": "text/x-python",
   "name": "python",
   "nbconvert_exporter": "python",
   "pygments_lexer": "ipython3",
   "version": "3.10.8"
  }
 },
 "nbformat": 4,
 "nbformat_minor": 5
}
